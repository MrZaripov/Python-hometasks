{
  "metadata": {
    "kernelspec": {
      "name": "python",
      "display_name": "Python (Pyodide)",
      "language": "python"
    },
    "language_info": {
      "codemirror_mode": {
        "name": "python",
        "version": 3
      },
      "file_extension": ".py",
      "mimetype": "text/x-python",
      "name": "python",
      "nbconvert_exporter": "python",
      "pygments_lexer": "ipython3",
      "version": "3.8"
    }
  },
  "nbformat_minor": 4,
  "nbformat": 4,
  "cells": [
    {
      "cell_type": "code",
      "source": "#Homework1:--------------------------------------------------------------------------------------------------------------------------------------------------",
      "metadata": {
        "trusted": true
      },
      "outputs": [],
      "execution_count": null
    },
    {
      "cell_type": "code",
      "source": "\n\n#Create a tuple literal named cardinal_numbers that holds the strings \"first\", \"second\", and \"third\", in that order. \ncardinal_numbers=[\"First\",\"second\",\"third\",\"fourth\",\"fifth\",\"sixth\",\"seventh\",\"eighth\",\"ninth\"]\nprint(\"cardinal_numbers=\",cardinal_numbers)",
      "metadata": {
        "trusted": true
      },
      "outputs": [
        {
          "name": "stdout",
          "text": "cardinal_numbers= ['First', 'second', 'third', 'fourth', 'fifth', 'sixth', 'seventh', 'eighth', 'ninth']\n",
          "output_type": "stream"
        }
      ],
      "execution_count": 50
    },
    {
      "cell_type": "code",
      "source": "#2. Using index notation and print(), display the string at index 1 in cardinal_numbers. \nprint(f'cardinal number with the index \"1\" is \"{cardinal_numbers[1]}\".',)",
      "metadata": {
        "trusted": true
      },
      "outputs": [
        {
          "name": "stdout",
          "text": "cardinal number with the index \"1\" is \"second\".\n",
          "output_type": "stream"
        }
      ],
      "execution_count": 51
    },
    {
      "cell_type": "code",
      "source": "#3. In a single line of code, unpack the values in cardinal_numbers into three new strings named position1, position2, and position3. Then print each value on a separate line. \nposition1,position2,position3,=cardinal_numbers[:3:],cardinal_numbers[3:6:],cardinal_numbers[6::]\nprint(\"position1=\",position1)\nprint(\"position2=\",position2)\nprint(\"position3=\",position3)",
      "metadata": {
        "trusted": true
      },
      "outputs": [
        {
          "name": "stdout",
          "text": "position1= ['First', 'second', 'third']\nposition2= ['fourth', 'fifth', 'sixth']\nposition3= ['seventh', 'eighth', 'ninth']\n",
          "output_type": "stream"
        }
      ],
      "execution_count": 52
    },
    {
      "cell_type": "code",
      "source": "#4. Using tuple() and a string literal, create a tuple called my_name that contains the letters of your name. \nmy_name=tuple(\"Munisbek\")\nprint(my_name)",
      "metadata": {
        "trusted": true
      },
      "outputs": [
        {
          "name": "stdout",
          "text": "('M', 'u', 'n', 'i', 's', 'b', 'e', 'k')\n",
          "output_type": "stream"
        }
      ],
      "execution_count": 53
    },
    {
      "cell_type": "code",
      "source": "#5. Check whether the character \"x\" is in my_name using the in keyword. \nis_x_in_my_name = 'x' in my_name\nif is_x_in_my_name ==False:\n    print(f'the character \\'x\\' is not in your name {my_name}')\nelse:\n   print(f'the character \\'x\\' is  in your name {my_name}') ",
      "metadata": {
        "trusted": true
      },
      "outputs": [
        {
          "name": "stdout",
          "text": "the character 'x' is not in your name ('M', 'u', 'n', 'i', 's', 'b', 'e', 'k')\n",
          "output_type": "stream"
        }
      ],
      "execution_count": 54
    },
    {
      "cell_type": "code",
      "source": "#6. Create a new tuple containing all but the first letter in my_name using slice notation.\nnew_name=my_name[1::]\nprint(new_name)",
      "metadata": {
        "trusted": true
      },
      "outputs": [
        {
          "name": "stdout",
          "text": "('u', 'n', 'i', 's', 'b', 'e', 'k')\n",
          "output_type": "stream"
        }
      ],
      "execution_count": 55
    },
    {
      "cell_type": "code",
      "source": "##Homework2:---------------------------------------------------------------------------------------------------------------------------------------------------------------",
      "metadata": {
        "trusted": true
      },
      "outputs": [],
      "execution_count": null
    },
    {
      "cell_type": "code",
      "source": "#1.Create a list named food with two elements, \"rice\" and \"beans\".\nfood=[\"rice\",\"beans\"]\nprint(food)",
      "metadata": {
        "trusted": true
      },
      "outputs": [
        {
          "name": "stdout",
          "text": "['rice', 'beans']\n",
          "output_type": "stream"
        }
      ],
      "execution_count": 57
    },
    {
      "cell_type": "code",
      "source": "#2.Append the string \"broccoli\" to food using .append().\nfood.append(\"broccoli\")\nprint(food)",
      "metadata": {
        "trusted": true
      },
      "outputs": [
        {
          "name": "stdout",
          "text": "['rice', 'beans', 'broccoli']\n",
          "output_type": "stream"
        }
      ],
      "execution_count": 58
    },
    {
      "cell_type": "code",
      "source": "#3.Add the strings \"bread\" and \"pizza\" to food using .extend().\nfood.extend([\"bread\",\"pizza\"])\nprint(food)",
      "metadata": {
        "trusted": true
      },
      "outputs": [
        {
          "name": "stdout",
          "text": "['rice', 'beans', 'broccoli', 'bread', 'pizza']\n",
          "output_type": "stream"
        }
      ],
      "execution_count": 59
    },
    {
      "cell_type": "code",
      "source": "#4.Print the first two items in the food list using print() and slice no tation.\nprint(food[:2:])",
      "metadata": {
        "trusted": true
      },
      "outputs": [
        {
          "name": "stdout",
          "text": "['rice', 'beans']\n",
          "output_type": "stream"
        }
      ],
      "execution_count": 60
    },
    {
      "cell_type": "code",
      "source": "#5. Print the last item in food using print() and index notation.\nprint(food[-1])",
      "metadata": {
        "trusted": true
      },
      "outputs": [
        {
          "name": "stdout",
          "text": "pizza\n",
          "output_type": "stream"
        }
      ],
      "execution_count": 61
    },
    {
      "cell_type": "code",
      "source": "#6.Create a list called breakfast from the string \"eggs, fruit, orange juice\" using the string .split() method. \nstr=\"eggs, fruit, orange juice\"\nstr=str.split(\", \")\nbreakfast=str\nprint(breakfast)",
      "metadata": {
        "trusted": true
      },
      "outputs": [
        {
          "name": "stdout",
          "text": "['eggs', 'fruit', 'orange juice']\n",
          "output_type": "stream"
        }
      ],
      "execution_count": 62
    },
    {
      "cell_type": "code",
      "source": "#7. Verify that breakfast has three items using len(). \nprint(len(breakfast))",
      "metadata": {
        "trusted": true
      },
      "outputs": [
        {
          "name": "stdout",
          "text": "3\n",
          "output_type": "stream"
        }
      ],
      "execution_count": 63
    },
    {
      "cell_type": "code",
      "source": "#8. Create a new list called lengths using a list comprehension that con tains the lengths of each string in the breakfast list\nLengths=[len(i) for i in breakfast]\nprint(Lengths)",
      "metadata": {
        "trusted": true
      },
      "outputs": [
        {
          "name": "stdout",
          "text": "[4, 5, 12]\n",
          "output_type": "stream"
        }
      ],
      "execution_count": 64
    },
    {
      "cell_type": "code",
      "source": "#Homework 3:--------------------------------------------------------------------------------------------------------------------------------------------",
      "metadata": {
        "trusted": true
      },
      "outputs": [],
      "execution_count": 65
    },
    {
      "cell_type": "code",
      "source": "#      1.Write a Python program to get the smallest number from a list.\nlist=[43,4,213,1,0,5]\nsmallest=min(list)\nprint(smallest)",
      "metadata": {
        "trusted": true
      },
      "outputs": [
        {
          "name": "stdout",
          "text": "0\n",
          "output_type": "stream"
        }
      ],
      "execution_count": 67
    },
    {
      "cell_type": "code",
      "source": "#      2. Write a Python program to print a specified list after removing the 0th, 4th and 5th elements.\n#Sample List : ['Red', 'Green', 'White', 'Black', 'Pink', 'Yellow']\n#Expected Output : ['Green', 'White', 'Black']\ngiven_list=['Red', 'Green', 'White', 'Black', 'Pink', 'Yellow']\nprint(\"given list \",given_list)\nnew_list=[given_list[i] for i in range(len(given_list)) if i  not in [0,4,5] ] \nprint(\"new list \",new_list)",
      "metadata": {
        "trusted": true
      },
      "outputs": [
        {
          "name": "stdout",
          "text": "given list  ['Red', 'Green', 'White', 'Black', 'Pink', 'Yellow']\nnew list  ['Green', 'White', 'Black']\n",
          "output_type": "stream"
        }
      ],
      "execution_count": 72
    },
    {
      "cell_type": "code",
      "source": " #     3. Write a Python program to calculate the difference between the two lists\na,b=[1, 3, 5, 7, 9, 10,3,7], [2, 4, 6, 8,1,5,4,3]\nset(a)\nset(b)\nc=[i for i in a if i not in b]\nprint(c)",
      "metadata": {
        "trusted": true
      },
      "outputs": [
        {
          "name": "stdout",
          "text": "[7, 9, 10, 7]\n",
          "output_type": "stream"
        }
      ],
      "execution_count": 9
    },
    {
      "cell_type": "code",
      "source": "#      4. Write a Python program to find the index of an item in a specified list.\ngiven_list=['Red', 'Green', 'White', 'Black', 'Pink', 'Yellow']\nitem = 'Green'\ns=given_list.index(item)\nprint(s)",
      "metadata": {
        "trusted": true
      },
      "outputs": [
        {
          "name": "stdout",
          "text": "1\n",
          "output_type": "stream"
        }
      ],
      "execution_count": 74
    },
    {
      "cell_type": "code",
      "source": " #     5. Write a Python program to append a list to the second list.\nlist1=['apple','orange','fruit']\nlist2=[1,5,7,9]\n#list2.append(list1)\nlist3=list2.extend(list1)\nprint(list2)",
      "metadata": {
        "trusted": true
      },
      "outputs": [
        {
          "name": "stdout",
          "text": "[1, 5, 7, 9, 'apple', 'orange', 'fruit']\n",
          "output_type": "stream"
        }
      ],
      "execution_count": 77
    },
    {
      "cell_type": "code",
      "source": "  #    6. Write a Python program to find the second smallest number in a list.\nlist=[6,3,5,7,9,-4,8]\na=min(list)\nlist.remove(a)\nsecondsmallest=min(list)\nprint(secondsmallest)",
      "metadata": {
        "trusted": true
      },
      "outputs": [
        {
          "name": "stdout",
          "text": "-4\n3\n",
          "output_type": "stream"
        }
      ],
      "execution_count": 83
    },
    {
      "cell_type": "code",
      "source": " #     7. Write a Python program to find common items in two lists.\nlist1=[43,4,213,1,0,5]\nlist2=[6,4,1,3,5,7,9,-4,8]\nnew_list=set(list1) & set(list2)\nprint(new_list)",
      "metadata": {
        "trusted": true
      },
      "outputs": [
        {
          "name": "stdout",
          "text": "[{1, 4, 5}]\n",
          "output_type": "stream"
        }
      ],
      "execution_count": 87
    },
    {
      "cell_type": "code",
      "source": " #     8. Write a Python program to split a list into different variables\nlist3=[1, 5,8]\na,b,c=list3\nprint(a,b,c)",
      "metadata": {
        "trusted": true
      },
      "outputs": [
        {
          "name": "stdout",
          "text": "1 5 8\n",
          "output_type": "stream"
        }
      ],
      "execution_count": 2
    },
    {
      "cell_type": "code",
      "source": " #     9. Write a Python program to select the odd items from a list\na=[1,2,3,4,5,6,7,8,9,10]\nb=[i for i in a if int(i)%2==1]\nprint(b)",
      "metadata": {
        "trusted": true
      },
      "outputs": [
        {
          "name": "stdout",
          "text": "[1, 3, 5, 7, 9]\n",
          "output_type": "stream"
        }
      ],
      "execution_count": 4
    },
    {
      "cell_type": "code",
      "source": "#     10. Write a Python program to replace the last element in a list with another list.\n#Sample data : [1, 3, 5, 7, 9, 10], [2, 4, 6, 8]\n#Expected Output: [1, 3, 5, 7, 9, 2, 4, 6, 8]\na,b=[1, 3, 5, 7, 9, 10], [2, 4, 6, 8]\na.pop()\na.extend(b)\nprint(a)",
      "metadata": {
        "trusted": true
      },
      "outputs": [
        {
          "name": "stdout",
          "text": "[1, 3, 5, 7, 9, 2, 4, 6, 8]\n",
          "output_type": "stream"
        }
      ],
      "execution_count": 8
    }
  ]
}