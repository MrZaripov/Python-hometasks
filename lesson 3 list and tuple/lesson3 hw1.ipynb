{
  "metadata": {
    "kernelspec": {
      "name": "python",
      "display_name": "Python (Pyodide)",
      "language": "python"
    },
    "language_info": {
      "codemirror_mode": {
        "name": "python",
        "version": 3
      },
      "file_extension": ".py",
      "mimetype": "text/x-python",
      "name": "python",
      "nbconvert_exporter": "python",
      "pygments_lexer": "ipython3",
      "version": "3.8"
    }
  },
  "nbformat_minor": 4,
  "nbformat": 4,
  "cells": [
    {
      "cell_type": "code",
      "source": "#Homework1:--------------------------------------------------------------------------------------------------------------------------------------------------",
      "metadata": {
        "trusted": true
      },
      "outputs": [],
      "execution_count": null
    },
    {
      "cell_type": "code",
      "source": "#Create a tuple literal named cardinal_numbers that holds the strings \"first\", \"second\", and \"third\", in that order. \ncardinal_numbers=[\"First\",\"second\",\"third\",\"fourth\",\"fifth\",\"sixth\",\"seventh\",\"eighth\",\"ninth\"]\nprint(\"cardinal_numbers=\",cardinal_numbers)",
      "metadata": {
        "trusted": true
      },
      "outputs": [
        {
          "name": "stdout",
          "text": "cardinal_numbers= ['First', 'second', 'third', 'fourth', 'fifth', 'sixth', 'seventh', 'eighth', 'ninth']\n",
          "output_type": "stream"
        }
      ],
      "execution_count": 2
    },
    {
      "cell_type": "code",
      "source": "#2. Using index notation and print(), display the string at index 1 in cardinal_numbers. \nprint(f'cardinal number with the index \"1\" is \"{cardinal_numbers[1]}\".',)",
      "metadata": {
        "trusted": true
      },
      "outputs": [
        {
          "name": "stdout",
          "text": "cardinal number with the index \"1\" is \"second\".\n",
          "output_type": "stream"
        }
      ],
      "execution_count": 3
    },
    {
      "cell_type": "code",
      "source": "#3. In a single line of code, unpack the values in cardinal_numbers into three new strings named position1, position2, and position3. Then print each value on a separate line. \nposition1,position2,position3,=cardinal_numbers[:3:],cardinal_numbers[3:6:],cardinal_numbers[6::]\nprint(\"position1=\",position1)\nprint(\"position2=\",position2)\nprint(\"position3=\",position3)",
      "metadata": {
        "trusted": true
      },
      "outputs": [
        {
          "name": "stdout",
          "text": "position1= ['First', 'second', 'third']\nposition2= ['fourth', 'fifth', 'sixth']\nposition3= ['seventh', 'eighth', 'ninth']\n",
          "output_type": "stream"
        }
      ],
      "execution_count": 4
    },
    {
      "cell_type": "code",
      "source": "#4. Using tuple() and a string literal, create a tuple called my_name that contains the letters of your name. \nmy_name=tuple(\"Munisbek\")\nprint(my_name)",
      "metadata": {
        "trusted": true
      },
      "outputs": [
        {
          "name": "stdout",
          "text": "('M', 'u', 'n', 'i', 's', 'b', 'e', 'k')\n",
          "output_type": "stream"
        }
      ],
      "execution_count": 5
    },
    {
      "cell_type": "code",
      "source": "#5. Check whether the character \"x\" is in my_name using the in keyword. \nis_x_in_my_name = 'x' in my_name\nif is_x_in_my_name ==False:\n    print(f'the character \\'x\\' is not in your name {my_name}')\nelse:\n   print(f'the character \\'x\\' is  in your name {my_name}') ",
      "metadata": {
        "trusted": true
      },
      "outputs": [
        {
          "name": "stdout",
          "text": "the character 'x' is not in your name ('M', 'u', 'n', 'i', 's', 'b', 'e', 'k')\n",
          "output_type": "stream"
        }
      ],
      "execution_count": 6
    },
    {
      "cell_type": "code",
      "source": "#6. Create a new tuple containing all but the first letter in my_name using slice notation.\nnew_name=my_name[1::]\nprint(new_name)",
      "metadata": {
        "trusted": true
      },
      "outputs": [
        {
          "name": "stdout",
          "text": "('u', 'n', 'i', 's', 'b', 'e', 'k')\n",
          "output_type": "stream"
        }
      ],
      "execution_count": 7
    }
  ]
}