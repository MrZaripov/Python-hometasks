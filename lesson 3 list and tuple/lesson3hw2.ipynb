{
  "metadata": {
    "kernelspec": {
      "name": "python",
      "display_name": "Python (Pyodide)",
      "language": "python"
    },
    "language_info": {
      "codemirror_mode": {
        "name": "python",
        "version": 3
      },
      "file_extension": ".py",
      "mimetype": "text/x-python",
      "name": "python",
      "nbconvert_exporter": "python",
      "pygments_lexer": "ipython3",
      "version": "3.8"
    }
  },
  "nbformat_minor": 4,
  "nbformat": 4,
  "cells": [
    {
      "cell_type": "code",
      "source": "##Homework2:---------------------------------------------------------------------------------------------------------------------------------------------------------------",
      "metadata": {
        "trusted": true
      },
      "outputs": [],
      "execution_count": 1
    },
    {
      "cell_type": "code",
      "source": "#1.Create a list named food with two elements, \"rice\" and \"beans\".\nfood=[\"rice\",\"beans\"]\nprint(food)",
      "metadata": {
        "trusted": true
      },
      "outputs": [
        {
          "name": "stdout",
          "text": "['rice', 'beans']\n",
          "output_type": "stream"
        }
      ],
      "execution_count": 2
    },
    {
      "cell_type": "code",
      "source": "#2.Append the string \"broccoli\" to food using .append().\nfood.append(\"broccoli\")\nprint(food)",
      "metadata": {
        "trusted": true
      },
      "outputs": [
        {
          "name": "stdout",
          "text": "['rice', 'beans', 'broccoli']\n",
          "output_type": "stream"
        }
      ],
      "execution_count": 3
    },
    {
      "cell_type": "code",
      "source": "#3.Add the strings \"bread\" and \"pizza\" to food using .extend().\nfood.extend([\"bread\",\"pizza\"])\nprint(food)",
      "metadata": {
        "trusted": true
      },
      "outputs": [
        {
          "name": "stdout",
          "text": "['rice', 'beans', 'broccoli', 'bread', 'pizza']\n",
          "output_type": "stream"
        }
      ],
      "execution_count": 4
    },
    {
      "cell_type": "code",
      "source": "#4.Print the first two items in the food list using print() and slice no tation.\nprint(food[:2:])",
      "metadata": {
        "trusted": true
      },
      "outputs": [
        {
          "name": "stdout",
          "text": "['rice', 'beans']\n",
          "output_type": "stream"
        }
      ],
      "execution_count": 5
    },
    {
      "cell_type": "code",
      "source": "#5. Print the last item in food using print() and index notation.\nprint(food[-1])",
      "metadata": {
        "trusted": true
      },
      "outputs": [
        {
          "name": "stdout",
          "text": "pizza\n",
          "output_type": "stream"
        }
      ],
      "execution_count": 6
    },
    {
      "cell_type": "code",
      "source": "#6.Create a list called breakfast from the string \"eggs, fruit, orange juice\" using the string .split() method. \nstr=\"eggs, fruit, orange juice\"\nstr=str.split(\", \")\nbreakfast=str\nprint(breakfast)",
      "metadata": {
        "trusted": true
      },
      "outputs": [
        {
          "name": "stdout",
          "text": "['eggs', 'fruit', 'orange juice']\n",
          "output_type": "stream"
        }
      ],
      "execution_count": 7
    },
    {
      "cell_type": "code",
      "source": "#7. Verify that breakfast has three items using len(). \nprint(len(breakfast))",
      "metadata": {
        "trusted": true
      },
      "outputs": [
        {
          "name": "stdout",
          "text": "3\n",
          "output_type": "stream"
        }
      ],
      "execution_count": 8
    },
    {
      "cell_type": "code",
      "source": "#8. Create a new list called lengths using a list comprehension that con tains the lengths of each string in the breakfast list\nLengths=[len(i) for i in breakfast]\nprint(Lengths)",
      "metadata": {
        "trusted": true
      },
      "outputs": [
        {
          "name": "stdout",
          "text": "[4, 5, 12]\n",
          "output_type": "stream"
        }
      ],
      "execution_count": 9
    }
  ]
}