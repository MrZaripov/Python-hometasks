{
  "metadata": {
    "kernelspec": {
      "name": "python",
      "display_name": "Python (Pyodide)",
      "language": "python"
    },
    "language_info": {
      "codemirror_mode": {
        "name": "python",
        "version": 3
      },
      "file_extension": ".py",
      "mimetype": "text/x-python",
      "name": "python",
      "nbconvert_exporter": "python",
      "pygments_lexer": "ipython3",
      "version": "3.8"
    }
  },
  "nbformat_minor": 4,
  "nbformat": 4,
  "cells": [
    {
      "cell_type": "code",
      "source": "#Homework 3:--------------------------------------------------------------------------------------------------------------------------------------------",
      "metadata": {
        "trusted": true
      },
      "outputs": [],
      "execution_count": null
    },
    {
      "cell_type": "code",
      "source": "#      1.Write a Python program to get the smallest number from a list.\nlist=[43,4,213,1,0,5]\nsmallest=min(list)\nprint(smallest)",
      "metadata": {
        "trusted": true
      },
      "outputs": [
        {
          "name": "stdout",
          "text": "0\n",
          "output_type": "stream"
        }
      ],
      "execution_count": 1
    },
    {
      "cell_type": "code",
      "source": "#      2. Write a Python program to print a specified list after removing the 0th, 4th and 5th elements.\n#Sample List : ['Red', 'Green', 'White', 'Black', 'Pink', 'Yellow']\n#Expected Output : ['Green', 'White', 'Black']\ngiven_list=['Red', 'Green', 'White', 'Black', 'Pink', 'Yellow']\nprint(\"given list \",given_list)\nnew_list=[given_list[i] for i in range(len(given_list)) if i  not in [0,4,5] ] \nprint(\"new list \",new_list)",
      "metadata": {
        "trusted": true
      },
      "outputs": [
        {
          "name": "stdout",
          "text": "given list  ['Red', 'Green', 'White', 'Black', 'Pink', 'Yellow']\nnew list  ['Green', 'White', 'Black']\n",
          "output_type": "stream"
        }
      ],
      "execution_count": 2
    },
    {
      "cell_type": "code",
      "source": " #     3. Write a Python program to calculate the difference between the two lists\na,b=[1, 3, 5, 7, 9, 10,3,7], [2, 4, 6, 8,1,5,4,3]\nset(a)\nset(b)\nc=[i for i in a if i not in b]\nprint(c)",
      "metadata": {
        "trusted": true
      },
      "outputs": [
        {
          "name": "stdout",
          "text": "[7, 9, 10, 7]\n",
          "output_type": "stream"
        }
      ],
      "execution_count": 3
    },
    {
      "cell_type": "code",
      "source": "#      4. Write a Python program to find the index of an item in a specified list.\ngiven_list=['Red', 'Green', 'White', 'Black', 'Pink', 'Yellow']\nitem = 'Green'\ns=given_list.index(item)\nprint(s)",
      "metadata": {
        "trusted": true
      },
      "outputs": [
        {
          "name": "stdout",
          "text": "1\n",
          "output_type": "stream"
        }
      ],
      "execution_count": 4
    },
    {
      "cell_type": "code",
      "source": " #     5. Write a Python program to append a list to the second list.\nlist1=['apple','orange','fruit']\nlist2=[1,5,7,9]\n#list2.append(list1)\nlist3=list2.extend(list1)\nprint(list2)",
      "metadata": {
        "trusted": true
      },
      "outputs": [
        {
          "name": "stdout",
          "text": "[1, 5, 7, 9, 'apple', 'orange', 'fruit']\n",
          "output_type": "stream"
        }
      ],
      "execution_count": 5
    },
    {
      "cell_type": "code",
      "source": "  #    6. Write a Python program to find the second smallest number in a list.\nlist=[6,3,5,7,9,-4,8]\na=min(list)\nlist.remove(a)\nsecondsmallest=min(list)\nprint(secondsmallest)",
      "metadata": {
        "trusted": true
      },
      "outputs": [
        {
          "name": "stdout",
          "text": "3\n",
          "output_type": "stream"
        }
      ],
      "execution_count": 6
    },
    {
      "cell_type": "code",
      "source": " #     7. Write a Python program to find common items in two lists.\nlist1=[43,4,213,1,0,5]\nlist2=[6,4,1,3,5,7,9,-4,8]\nnew_list=set(list1) & set(list2)\nprint(new_list)",
      "metadata": {
        "trusted": true
      },
      "outputs": [
        {
          "name": "stdout",
          "text": "{1, 4, 5}\n",
          "output_type": "stream"
        }
      ],
      "execution_count": 7
    },
    {
      "cell_type": "code",
      "source": " #     8. Write a Python program to split a list into different variables\nlist3=[1, 5,8]\na,b,c=list3\nprint(a,b,c)",
      "metadata": {
        "trusted": true
      },
      "outputs": [
        {
          "name": "stdout",
          "text": "1 5 8\n",
          "output_type": "stream"
        }
      ],
      "execution_count": 8
    },
    {
      "cell_type": "code",
      "source": " #     9. Write a Python program to select the odd items from a list\na=[1,2,3,4,5,6,7,8,9,10]\nb=[i for i in a if int(i)%2==1]\nprint(b)",
      "metadata": {
        "trusted": true
      },
      "outputs": [
        {
          "name": "stdout",
          "text": "[1, 3, 5, 7, 9]\n",
          "output_type": "stream"
        }
      ],
      "execution_count": 9
    },
    {
      "cell_type": "code",
      "source": "#     10. Write a Python program to replace the last element in a list with another list.\n#Sample data : [1, 3, 5, 7, 9, 10], [2, 4, 6, 8]\n#Expected Output: [1, 3, 5, 7, 9, 2, 4, 6, 8]\na,b=[1, 3, 5, 7, 9, 10], [2, 4, 6, 8]\na.pop()\na.extend(b)\nprint(a)",
      "metadata": {
        "trusted": true
      },
      "outputs": [
        {
          "name": "stdout",
          "text": "[1, 3, 5, 7, 9, 2, 4, 6, 8]\n",
          "output_type": "stream"
        }
      ],
      "execution_count": 10
    },
    {
      "cell_type": "code",
      "source": "",
      "metadata": {
        "trusted": true
      },
      "outputs": [],
      "execution_count": null
    }
  ]
}