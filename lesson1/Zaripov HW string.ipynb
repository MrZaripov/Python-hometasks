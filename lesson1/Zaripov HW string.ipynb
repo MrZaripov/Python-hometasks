{
  "metadata": {
    "kernelspec": {
      "name": "python",
      "display_name": "Python (Pyodide)",
      "language": "python"
    },
    "language_info": {
      "codemirror_mode": {
        "name": "python",
        "version": 3
      },
      "file_extension": ".py",
      "mimetype": "text/x-python",
      "name": "python",
      "nbconvert_exporter": "python",
      "pygments_lexer": "ipython3",
      "version": "3.8"
    }
  },
  "nbformat_minor": 5,
  "nbformat": 4,
  "cells": [
    {
      "id": "2d92d865-28e8-4f78-b978-346a6609a7e9",
      "cell_type": "code",
      "source": "#Module: Python1\n#Lesson: string\n#Homeworks:\n",
      "metadata": {
        "trusted": true
      },
      "outputs": [],
      "execution_count": 6
    },
    {
      "id": "4cc5e4b7-147e-4c77-9c09-96e5f91fe0f5",
      "cell_type": "code",
      "source": "#1. Write a Python program to calculate the length of a string\n        #a=str(input(\"a=\"))\n\na='we are venom!'\nprint(len(a))",
      "metadata": {
        "trusted": true
      },
      "outputs": [
        {
          "name": "stdout",
          "output_type": "stream",
          "text": [
            "13\n"
          ]
        }
      ],
      "execution_count": 7
    },
    {
      "id": "582c730e-2fe5-4afa-951b-81ce429f252c",
      "cell_type": "code",
      "source": "#2. Write a Python program to get a string made of the first 2 and last 2 characters of a given string.\n\n\na='Uzbekistan is my country'\nb=a[:2:]+a[len(a)-2::]\n\nprint(b)\n",
      "metadata": {
        "trusted": true
      },
      "outputs": [
        {
          "name": "stdout",
          "text": "Uzry\n",
          "output_type": "stream"
        }
      ],
      "execution_count": 1
    },
    {
      "id": "caa25e74-f0e3-4d21-90eb-35f4cd844b20",
      "cell_type": "code",
      "source": "#3. Write a Python program to get a string from a given string where all occurrences of its first char have been changed to '$', except the first char itself.\n        #Sample String : 'restart'\n        #Expected Result : 'resta$t'\n\na='restartr'\nb=''\nb=b.join ('$' if a[i]==a[0] and i>0 else a[i] for i in range (len(a)) )\nprint(b)",
      "metadata": {
        "trusted": true
      },
      "outputs": [
        {
          "name": "stdout",
          "output_type": "stream",
          "text": [
            "resta$t$\n"
          ]
        }
      ],
      "execution_count": 9
    },
    {
      "id": "63e1d0b1-fab4-4c81-b1b7-b9c1e47ba60a",
      "cell_type": "code",
      "source": "#4. Write a Python program to get a single string from two given strings, separated by a space and swap the first two characters of each string.\n    #Sample String : 'abc', 'xyz'\n    #Expected Result : 'xyc abz'\n\na,b='abc','xyz'\nc=b.replace(b[:2:],a[:2:])+' '+a.replace(a[:2:],b[:2:])\nprint(c)\n\n",
      "metadata": {
        "trusted": true
      },
      "outputs": [
        {
          "name": "stdout",
          "output_type": "stream",
          "text": [
            "abz xyc\n"
          ]
        }
      ],
      "execution_count": 10
    },
    {
      "id": "2ac5c8b0-b571-4f5e-9866-b31aacfc7236",
      "cell_type": "code",
      "source": "#5. Write a  Python program to remove the n index ( n should be given by input) character from a nonempty string.\n\nlist='My name is Munisbek'\nn=int(input(\"enter index n=\"))\nif n<0 or n>=len(list):\n    print(\"index out of the range\")\n    n=int(input(\"enter new index n=\"))\nelse:\n    list=list[:n:]+list[n+1::]\n    print(list)\n\n",
      "metadata": {
        "trusted": true
      },
      "outputs": [
        {
          "name": "stdout",
          "text": "My nae is Munisbek\n",
          "output_type": "stream"
        }
      ],
      "execution_count": 14
    },
    {
      "id": "4e970ca0-ea15-4770-ac7b-270ccf0bcc5c",
      "cell_type": "code",
      "source": "#6. Write a Python program to change a given string to a newly string where the first and last chars have been exchanged.\n\na='Munisbek'\n#b=a.replace(a[0],a[len(a)-1])\nb=a[-1]+a[1:-1:]+a[0]\nprint(b)",
      "metadata": {
        "trusted": true
      },
      "outputs": [
        {
          "name": "stdout",
          "output_type": "stream",
          "text": [
            "kunisbeM\n"
          ]
        }
      ],
      "execution_count": 17
    },
    {
      "id": "f6cc052b-b538-4fc7-bc3f-af309c90288a",
      "cell_type": "code",
      "source": "#7. Write a Python program to count the occurrences of a given word in a given sentence.( word and sentence should be given as a input)\n\nsentence=str(input(\"enter your sentence\"))\nword=str(input(\"enter your word\"))\nif sentence=='':\n    print(\"your text is empty\")\n    sentence=str(input(\"enter your text again\"))\nelif word=='':\n    print(\"your text is empty\")\n    word=str(input(\"enter your word again\"))\nelse:\n    sentence=sentence.split()\n    print(sentence)\n    b=sentence.count(word)\n    if b>0:\n        print(b)\n    else:\n        print( \"your word is not in your sentence\")",
      "metadata": {
        "trusted": true
      },
      "outputs": [
        {
          "name": "stdout",
          "output_type": "stream",
          "text": [
            "['ab', 'ac', 'ad', 'ab', 'dd', 'bd', 'ab']\n",
            "3\n"
          ]
        }
      ],
      "execution_count": null
    },
    {
      "id": "ad7c53d5",
      "cell_type": "code",
      "source": "#8. Write a Python  script that takes input from the user and displays that input back in upper and lower cases.\n#a=str(input(\"Enter your text\"))\n#if a=='':\n#    print(\"your text is empty\")\n#    a=str(input(\"Enter your text again\"))\n#else:\n #   print(\"Upper case:\",a.upper())\n  #  print(\"Lower case:\",a.lower())  \n\na='Munisbek'\nprint(\"Upper case:\",a.upper())\nprint(\"Lower case:\",a.lower())",
      "metadata": {
        "trusted": true
      },
      "outputs": [
        {
          "name": "stdout",
          "text": "Upper case: MUNISBEK\nLower case: munisbek\n",
          "output_type": "stream"
        }
      ],
      "execution_count": 8
    },
    {
      "id": "63608c1a-c01e-4ce4-94aa-c7389e124374",
      "cell_type": "code",
      "source": "#9. Write a Python code to get a string made of 4 copies of the last two characters of a given string (string should be given as input).\n    #Sample input and result :\n        #('Python') -> onononon\n        #('Exercises') -> eseseses\n#string=str(input(\"Enter your string text\"))\n#if sring=='':\n#    print(\"your text is empty\")\n#    string=str(input(\"Enter your string text again\"))\n#elif len(string)<2:\n#    print(\"your text has less than 2 characters\")\n#    string=str(input(\"Enter your string text again\"))\n#else:\n#    print(string[-2::]*4)\n\nstring='zaripov'\nprint(string[-2::]*4)\n    ",
      "metadata": {
        "trusted": true
      },
      "outputs": [
        {
          "name": "stdout",
          "text": "ovovovov\n",
          "output_type": "stream"
        }
      ],
      "execution_count": 10
    },
    {
      "id": "76576876-8b58-446f-8939-78bf2c141d2f",
      "cell_type": "code",
      "source": "#\t10. Write a Python code to get a string made of the first three characters of a specified string.\n#('ipy') -> ipy\n#('python') -> pyt\n\na='Uzatom agency'\nif len(a)<3:\n    print(a)\nelse:\n    print(a[:3:])",
      "metadata": {
        "trusted": true
      },
      "outputs": [
        {
          "name": "stdout",
          "text": "Uza\n",
          "output_type": "stream"
        }
      ],
      "execution_count": 12
    },
    {
      "id": "af78b8b9-9d77-4eeb-b854-13fb6153f3f3",
      "cell_type": "code",
      "source": "#\t11. Write a Python code to reverse a string\n\na='Kamina'\nprint(a[::-1])\n# reverse() for iterable lists  \n\n",
      "metadata": {
        "trusted": true
      },
      "outputs": [
        {
          "name": "stdout",
          "text": "animaK\n",
          "output_type": "stream"
        }
      ],
      "execution_count": 21
    },
    {
      "id": "0f35d95a-4987-4917-b40c-16c5015e8848",
      "cell_type": "code",
      "source": "#\t12. Write a Python program to check whether a string starts with specified characters.\nstring='_time_'\nspcharacter='#'\nif spcharacter==string[0]:\n    print('your text \"{string}\" starts with \"{spcharacter}\".')\nelse:\n     print('your text \"{string}\" does not start with \"{spcharacter}\".')",
      "metadata": {
        "trusted": true
      },
      "outputs": [
        {
          "name": "stdout",
          "text": "your text \"{string}\" does not start with \"{spcharacter}\".\n",
          "output_type": "stream"
        }
      ],
      "execution_count": 25
    },
    {
      "id": "0ec21b1d-f94b-4021-a5dc-9b2d7eca93be",
      "cell_type": "code",
      "source": "",
      "metadata": {
        "trusted": true
      },
      "outputs": [],
      "execution_count": null
    }
  ]
}