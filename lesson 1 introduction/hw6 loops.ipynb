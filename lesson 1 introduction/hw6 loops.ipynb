{
  "metadata": {
    "kernelspec": {
      "name": "python",
      "display_name": "Python (Pyodide)",
      "language": "python"
    },
    "language_info": {
      "codemirror_mode": {
        "name": "python",
        "version": 3
      },
      "file_extension": ".py",
      "mimetype": "text/x-python",
      "name": "python",
      "nbconvert_exporter": "python",
      "pygments_lexer": "ipython3",
      "version": "3.8"
    }
  },
  "nbformat_minor": 4,
  "nbformat": 4,
  "cells": [
    {
      "cell_type": "code",
      "source": "#1. first `10 natural numbers\ni=1\nwhile i<=10:\n    print(i)\n    i+=1",
      "metadata": {
        "trusted": true
      },
      "outputs": [],
      "execution_count": null
    },
    {
      "cell_type": "code",
      "source": "#2. PRINT following pattern\n# - 1\n# - 1 2 \n# - 1 2 3\n# - 1 2 3 4\nanswer='-'\nfor i in range(1,5):\n    answer+=' '+str(i)\n    print(answer)",
      "metadata": {
        "trusted": true
      },
      "outputs": [],
      "execution_count": null
    },
    {
      "cell_type": "code",
      "source": "#3.  SUM OF N NUMBERS\n#n=int(input(\"enter your number\"))\nn=10\nsum=0\nfor i in range(n):\n    sum+=i\nprint(sum)\n",
      "metadata": {
        "trusted": true
      },
      "outputs": [],
      "execution_count": null
    },
    {
      "cell_type": "code",
      "source": "# task4\nlist=[12,75,150,180,145,525,50]\nnewlist=[]\nfor i in list:\n    if i%5==0:\n        if i<=150:\n            newlist.append(i)\n        elif i>500:\n            break\n        else:\n            continue\nprint(newlist)\n",
      "metadata": {
        "trusted": true
      },
      "outputs": [],
      "execution_count": null
    },
    {
      "cell_type": "code",
      "source": "a=900014378\n",
      "metadata": {
        "trusted": true
      },
      "outputs": [],
      "execution_count": null
    },
    {
      "cell_type": "code",
      "source": "",
      "metadata": {
        "trusted": true
      },
      "outputs": [],
      "execution_count": null
    }
  ]
}