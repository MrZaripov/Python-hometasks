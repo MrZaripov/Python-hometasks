{
  "metadata": {
    "kernelspec": {
      "name": "python",
      "display_name": "Python (Pyodide)",
      "language": "python"
    },
    "language_info": {
      "codemirror_mode": {
        "name": "python",
        "version": 3
      },
      "file_extension": ".py",
      "mimetype": "text/x-python",
      "name": "python",
      "nbconvert_exporter": "python",
      "pygments_lexer": "ipython3",
      "version": "3.8"
    }
  },
  "nbformat_minor": 4,
  "nbformat": 4,
  "cells": [
    {
      "cell_type": "code",
      "source": "#write a Python code to define year is a leap year or not\n#a=int(input(\"enter your year \"))\na=1202\nprint(f'year {a} is a leap year'if (a%4==0 and a%100 != 0) or a%400==0   else f'year {a} is not a leap year' )",
      "metadata": {
        "trusted": true
      },
      "outputs": [
        {
          "name": "stdout",
          "text": "year 1202 is not a leap year\n",
          "output_type": "stream"
        }
      ],
      "execution_count": 7
    },
    {
      "cell_type": "code",
      "source": "#Q1. Name the keyword which helps in writing code involves condition.\n# ANSWER IF\n\n#Q2. Write the syntax of simple if statement.\n# if ** conditon** :\n        #code if the condition is true \n\n#Q3. Is there any limit of statement that can appear under an if block.\n# no  ?",
      "metadata": {
        "trusted": true
      },
      "outputs": [
        {
          "name": "stdout",
          "text": "siz 14 yoshdasiz va siz ovoz berish huquqiga ega emassiz\nyour number 23 is odd\n",
          "output_type": "stream"
        }
      ],
      "execution_count": 4
    },
    {
      "cell_type": "code",
      "source": "#Q4. Write a program to check whether a person is eligible for voting or not. (accept age from user)\n\nminage = 18 # agar faat 18dan oshgan odamlar ovoz bera olsa  \n#personsage=int(input(\"enter your age\"))\npersonsage=14\nprint(f'siz {personsage} yoshdasiz va siz ovoz berish huquqiga egasiz' if personsage>=minage else f'siz {personsage} yoshdasiz va siz ovoz berish huquqiga ega emassiz' )",
      "metadata": {
        "trusted": true
      },
      "outputs": [
        {
          "name": "stdout",
          "text": "siz 14 yoshdasiz va siz ovoz berish huquqiga ega emassiz\n",
          "output_type": "stream"
        }
      ],
      "execution_count": 5
    },
    {
      "cell_type": "code",
      "source": "#Q5. Write a program to check whether a number entered by user is even or odd.\n\n#n=int(input(\"enter your number\"))\nn=23\nif n%2==0:\n    print(f'your number {n} is even')\nelse:\n    print(f'your number {n} is odd')",
      "metadata": {
        "trusted": true
      },
      "outputs": [
        {
          "name": "stdout",
          "text": "your number 23 is odd\n",
          "output_type": "stream"
        }
      ],
      "execution_count": 6
    },
    {
      "cell_type": "code",
      "source": "#Q6. Write a program to check whether a number is divisible by 7 or not.\n#n = int(input(\"enter your number n=\"))\nn=707\nprint(f'{n} is divisible by 7' if n%7==0 else f'{n} is not divisible by 7')",
      "metadata": {
        "trusted": true
      },
      "outputs": [
        {
          "name": "stdout",
          "text": "707 is divisible by 7\n",
          "output_type": "stream"
        }
      ],
      "execution_count": 10
    },
    {
      "cell_type": "code",
      "source": "#Q7. Write a program to display \"Hello\" if a number entered by user is a multiple of five ,\n\n#number7=int(input(\"enter your number \"))\nnumber7=234\nif number7==0:\n    print(\"ups, you entered 0\")\nelse:   \n    print(\"hello\" if number7%5==0 else \"bye\")",
      "metadata": {
        "trusted": true
      },
      "outputs": [
        {
          "name": "stdout",
          "text": "bye\n",
          "output_type": "stream"
        }
      ],
      "execution_count": 11
    },
    {
      "cell_type": "code",
      "source": "#Q8. Write a program to calculate the electricity bill (accept number of unit from user) according to\n#the following criteria :\n\n#Unit                                 #Price\n\n#First 100 units                      #no charge\n#Next 100 units                       #Rs 5 per unit\n#After 200 units                      #Rs 10 per unit\n#(For example if input unit is 350 than total bill amount is Rs2000)\n\na=250\ntolal_amount=0\nif a>=200:\n    tolal_amount=(a-200)*10+500\nelif 100<a<=200:\n    tolal_amount=(a-100)*5\nelse:\n    tolal_amount=0\nprint(f'the electricity bill for {a} units is Rs{tolal_amount}.')\n        \n   \n\n",
      "metadata": {
        "trusted": true
      },
      "outputs": [
        {
          "name": "stdout",
          "text": "the electricity bill for 250 units is Rs1000.\n",
          "output_type": "stream"
        }
      ],
      "execution_count": 5
    },
    {
      "cell_type": "code",
      "source": "#Q9. Write a program to display the last digit of a number.\n#(hint : any number % 10 will return the last digit)\na = 126 # any number )))\nprint(f'last digit of {a} is {a%10}')",
      "metadata": {
        "trusted": true
      },
      "outputs": [
        {
          "name": "stdout",
          "text": "last digit of 126 is 6\n",
          "output_type": "stream"
        }
      ],
      "execution_count": 8
    },
    {
      "cell_type": "code",
      "source": "#Q10. Write a program to check whether the last digit of a number( entered by user ) is\n#divisible by 3 or not.\nnumber=23575658\nlastdigit=number%10\nprint(f\"last digit of {number} is {lastdigit} and it is divisible by 3\" if lastdigit%3==0 else f\"last digit of {number} is {lastdigit}. and it is not divisible by 3\")",
      "metadata": {
        "trusted": true
      },
      "outputs": [
        {
          "name": "stdout",
          "text": "last digit of 23575658 is 8. and it is not divisible by 3\n",
          "output_type": "stream"
        }
      ],
      "execution_count": 11
    },
    {
      "cell_type": "code",
      "source": "",
      "metadata": {
        "trusted": true
      },
      "outputs": [],
      "execution_count": null
    }
  ]
}