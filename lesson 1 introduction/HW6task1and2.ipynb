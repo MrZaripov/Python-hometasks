{
  "metadata": {
    "kernelspec": {
      "name": "python",
      "display_name": "Python (Pyodide)",
      "language": "python"
    },
    "language_info": {
      "codemirror_mode": {
        "name": "python",
        "version": 3
      },
      "file_extension": ".py",
      "mimetype": "text/x-python",
      "name": "python",
      "nbconvert_exporter": "python",
      "pygments_lexer": "ipython3",
      "version": "3.8"
    }
  },
  "nbformat_minor": 4,
  "nbformat": 4,
  "cells": [
    {
      "cell_type": "code",
      "source": "#input\nlist1,list2=[1,1,2],[2,3,4]\n#output\n    #[1,1,3,4]\n\nlist12=[]\nfor i in list1:\n    if i not in list2:\n        list12.append(i)\nfor i in list2:\n    if i not in list1:\n        list12.append(i)\nprint(list12)\n",
      "metadata": {
        "trusted": true
      },
      "outputs": [
        {
          "name": "stdout",
          "text": "[1, 1, 3, 4]\n",
          "output_type": "stream"
        }
      ],
      "execution_count": 8
    },
    {
      "cell_type": "code",
      "source": "#input\nlist3,list4=[1,2,3],[4,5,6]\n#output\n    #[1,2,3,4,5,6]\n\nlist3.extend(list4)\nprint(list3)\n",
      "metadata": {
        "trusted": true
      },
      "outputs": [
        {
          "name": "stdout",
          "text": "[1, 2, 3, 4, 5, 6]\n",
          "output_type": "stream"
        }
      ],
      "execution_count": 9
    },
    {
      "cell_type": "code",
      "source": "#input\nlist5,list6=[1,1,2,3,4,2],[1,3,4,5]\n#output\n#[2,2,5]\n\nlist56=[]\nfor i in list5:\n    if i not in list6:\n        list56.append(i)\nfor i in list6:\n    if i not in list5:\n        list56.append(i)\nprint(list56)\n",
      "metadata": {
        "trusted": true
      },
      "outputs": [
        {
          "name": "stdout",
          "text": "[2, 2, 5]\n",
          "output_type": "stream"
        }
      ],
      "execution_count": 10
    },
    {
      "cell_type": "code",
      "source": "#task2 txt nomli string saqlovchi berilgan\ntxt='abcabcdabcdeabcdefabcdefg'\nnewtxt=''\nunli=['a','u','i','o','e']\ns=1\nj=''",
      "metadata": {
        "trusted": true
      },
      "outputs": [],
      "execution_count": 60
    },
    {
      "cell_type": "code",
      "source": "",
      "metadata": {
        "trusted": true
      },
      "outputs": [],
      "execution_count": null
    },
    {
      "cell_type": "code",
      "source": "",
      "metadata": {
        "trusted": true
      },
      "outputs": [],
      "execution_count": null
    },
    {
      "cell_type": "code",
      "source": "",
      "metadata": {
        "trusted": true
      },
      "outputs": [],
      "execution_count": null
    },
    {
      "cell_type": "code",
      "source": "",
      "metadata": {
        "trusted": true
      },
      "outputs": [],
      "execution_count": null
    }
  ]
}