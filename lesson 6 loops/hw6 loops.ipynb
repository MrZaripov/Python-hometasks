{
  "cells": [
    {
      "cell_type": "code",
      "execution_count": 1,
      "metadata": {
        "trusted": true
      },
      "outputs": [
        {
          "name": "stdout",
          "output_type": "stream",
          "text": [
            "1\n",
            "2\n",
            "3\n",
            "4\n",
            "5\n",
            "6\n",
            "7\n",
            "8\n",
            "9\n",
            "10\n"
          ]
        }
      ],
      "source": [
        "#1. first `10 natural numbers\n",
        "i=1\n",
        "while i<=10:\n",
        "    print(i)\n",
        "    i+=1"
      ]
    },
    {
      "cell_type": "code",
      "execution_count": 2,
      "metadata": {
        "trusted": true
      },
      "outputs": [
        {
          "name": "stdout",
          "output_type": "stream",
          "text": [
            "- 1\n",
            "- 1 2\n",
            "- 1 2 3\n",
            "- 1 2 3 4\n"
          ]
        }
      ],
      "source": [
        "#2. PRINT following pattern\n",
        "# - 1\n",
        "# - 1 2 \n",
        "# - 1 2 3\n",
        "# - 1 2 3 4\n",
        "answer='-'\n",
        "for i in range(1,5):\n",
        "    answer+=' '+str(i)\n",
        "    print(answer)"
      ]
    },
    {
      "cell_type": "code",
      "execution_count": 3,
      "metadata": {
        "trusted": true
      },
      "outputs": [
        {
          "name": "stdout",
          "output_type": "stream",
          "text": [
            "45\n"
          ]
        }
      ],
      "source": [
        "#3.  SUM OF N NUMBERS\n",
        "#n=int(input(\"enter your number\"))\n",
        "n=10\n",
        "sum=0\n",
        "for i in range(n):\n",
        "    sum+=i\n",
        "print(sum)\n"
      ]
    },
    {
      "cell_type": "code",
      "execution_count": 4,
      "metadata": {
        "trusted": true
      },
      "outputs": [
        {
          "name": "stdout",
          "output_type": "stream",
          "text": [
            "[75, 150, 145]\n"
          ]
        }
      ],
      "source": [
        "# task4\n",
        "list=[12,75,150,180,145,525,50]\n",
        "newlist=[]\n",
        "for i in list:\n",
        "    if i%5==0:\n",
        "        if i<=150:\n",
        "            newlist.append(i)\n",
        "        elif i>500:\n",
        "            break\n",
        "        else:\n",
        "            continue\n",
        "print(newlist)\n"
      ]
    },
    {
      "cell_type": "code",
      "execution_count": 23,
      "metadata": {
        "trusted": true
      },
      "outputs": [
        {
          "data": {
            "text/plain": [
              "5"
            ]
          },
          "execution_count": 23,
          "metadata": {},
          "output_type": "execute_result"
        }
      ],
      "source": [
        "#5. Write a Python program to count the total number of digits in a number using a while loop.\n",
        "\t#\tFor example, the number is 75869, so the output should be 5.\n",
        "number=75869\n",
        "a=1\n",
        "i=0\n",
        "while 'true':\n",
        "    a=number//10**i\n",
        "    if a==0:\n",
        "        break\n",
        "    else:\n",
        "        i+=1\n",
        "i"
      ]
    },
    {
      "cell_type": "code",
      "execution_count": 26,
      "metadata": {
        "trusted": true
      },
      "outputs": [
        {
          "name": "stdout",
          "output_type": "stream",
          "text": [
            "12\n",
            "11\n",
            "10\n",
            "9\n",
            "8\n",
            "7\n",
            "6\n",
            "5\n",
            "4\n",
            "3\n",
            "2\n",
            "1\n"
          ]
        }
      ],
      "source": [
        "#6. Write a Python program to print the reverse number pattern using a for loop.\n",
        "number=12\n",
        "for i in range(number,0,-1):\n",
        "    print(i)"
      ]
    },
    {
      "cell_type": "code",
      "execution_count": 27,
      "metadata": {},
      "outputs": [
        {
          "name": "stdout",
          "output_type": "stream",
          "text": [
            "10\n",
            "20\n",
            "30\n",
            "40\n",
            "50\n"
          ]
        }
      ],
      "source": [
        "#7. Print list in reverse order using a loop\n",
        "list1 = [10, 20, 30, 40, 50]\n",
        "for i in list1:\n",
        "    print(i)"
      ]
    },
    {
      "cell_type": "code",
      "execution_count": 31,
      "metadata": {},
      "outputs": [
        {
          "name": "stdout",
          "output_type": "stream",
          "text": [
            "6!=720\n"
          ]
        }
      ],
      "source": [
        "#8. Find the factorial of a given number\n",
        "given=int(input(\"enter your number\"))\n",
        "if given==0 or given==1:\n",
        "    print(f'{given}!=1')\n",
        "elif given<0:\n",
        "    print(\"your number is less than 0\")\n",
        "else:\n",
        "    a=1\n",
        "    for i in range(2,given+1):\n",
        "        a*=i\n",
        "    print(f'{given}!={a}')"
      ]
    },
    {
      "cell_type": "code",
      "execution_count": 39,
      "metadata": {},
      "outputs": [
        {
          "name": "stdout",
          "output_type": "stream",
          "text": [
            "[0, 1, 1, 2, 3, 5, 8, 13, 21, 34]\n"
          ]
        }
      ],
      "source": [
        "#9.  Display Fibonacci series up to 10 terms\n",
        "fibonacci=[0,1]\n",
        "i=1\n",
        "while len(fibonacci)<10:\n",
        "    fibonacci.append(fibonacci[i]+fibonacci[i-1])\n",
        "    i+=1\n",
        "print(fibonacci)"
      ]
    },
    {
      "cell_type": "code",
      "execution_count": null,
      "metadata": {},
      "outputs": [],
      "source": []
    }
  ],
  "metadata": {
    "kernelspec": {
      "display_name": "Python 3",
      "language": "python",
      "name": "python3"
    },
    "language_info": {
      "codemirror_mode": {
        "name": "ipython",
        "version": 3
      },
      "file_extension": ".py",
      "mimetype": "text/x-python",
      "name": "python",
      "nbconvert_exporter": "python",
      "pygments_lexer": "ipython3",
      "version": "3.12.3"
    }
  },
  "nbformat": 4,
  "nbformat_minor": 4
}
