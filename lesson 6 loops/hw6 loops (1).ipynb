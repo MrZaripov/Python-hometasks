{
  "metadata": {
    "kernelspec": {
      "name": "python",
      "display_name": "Python (Pyodide)",
      "language": "python"
    },
    "language_info": {
      "codemirror_mode": {
        "name": "python",
        "version": 3
      },
      "file_extension": ".py",
      "mimetype": "text/x-python",
      "name": "python",
      "nbconvert_exporter": "python",
      "pygments_lexer": "ipython3",
      "version": "3.8"
    }
  },
  "nbformat_minor": 4,
  "nbformat": 4,
  "cells": [
    {
      "cell_type": "code",
      "source": "#1. first `10 natural numbers\ni=1\nwhile i<=10:\n    print(i)\n    i+=1",
      "metadata": {
        "trusted": true
      },
      "outputs": [
        {
          "name": "stdout",
          "output_type": "stream",
          "text": "1\n2\n3\n4\n5\n6\n7\n8\n9\n10\n"
        }
      ],
      "execution_count": 1
    },
    {
      "cell_type": "code",
      "source": "#2. PRINT following pattern\n# - 1\n# - 1 2 \n# - 1 2 3\n# - 1 2 3 4\nanswer='-'\nfor i in range(1,5):\n    answer+=' '+str(i)\n    print(answer)",
      "metadata": {
        "trusted": true
      },
      "outputs": [
        {
          "name": "stdout",
          "output_type": "stream",
          "text": "- 1\n- 1 2\n- 1 2 3\n- 1 2 3 4\n"
        }
      ],
      "execution_count": 2
    },
    {
      "cell_type": "code",
      "source": "#3.  SUM OF N NUMBERS\n#n=int(input(\"enter your number\"))\nn=10\nsum=0\nfor i in range(n):\n    sum+=i\nprint(sum)\n",
      "metadata": {
        "trusted": true
      },
      "outputs": [
        {
          "name": "stdout",
          "output_type": "stream",
          "text": "45\n"
        }
      ],
      "execution_count": 3
    },
    {
      "cell_type": "code",
      "source": "# task4\nlist=[12,75,150,180,145,525,50]\nnewlist=[]\nfor i in list:\n    if i%5==0:\n        if i<=150:\n            newlist.append(i)\n        elif i>500:\n            break\n        else:\n            continue\nprint(newlist)\n",
      "metadata": {
        "trusted": true
      },
      "outputs": [
        {
          "name": "stdout",
          "output_type": "stream",
          "text": "[75, 150, 145]\n"
        }
      ],
      "execution_count": 4
    },
    {
      "cell_type": "code",
      "source": "#5. Write a Python program to count the total number of digits in a number using a while loop.\n\t#\tFor example, the number is 75869, so the output should be 5.\nnumber=75869\na=1\ni=0\nwhile 'true':\n    a=number//10**i\n    if a==0:\n        break\n    else:\n        i+=1\ni",
      "metadata": {
        "trusted": true
      },
      "outputs": [
        {
          "data": {
            "text/plain": [
              "5"
            ]
          },
          "execution_count": 23,
          "metadata": {},
          "output_type": "execute_result"
        }
      ],
      "execution_count": 23
    },
    {
      "cell_type": "code",
      "source": "#6. Write a Python program to print the reverse number pattern using a for loop.\nnumber=12\nfor i in range(number,0,-1):\n    print(i)",
      "metadata": {
        "trusted": true
      },
      "outputs": [
        {
          "name": "stdout",
          "output_type": "stream",
          "text": "12\n11\n10\n9\n8\n7\n6\n5\n4\n3\n2\n1\n"
        }
      ],
      "execution_count": 3
    },
    {
      "cell_type": "code",
      "source": "#7. Print list in reverse order using a loop\nlist1 = [10, 20, 30, 40, 50]\nfor i in list1:\n    print(i)",
      "metadata": {
        "trusted": true
      },
      "outputs": [
        {
          "name": "stdout",
          "output_type": "stream",
          "text": "10\n20\n30\n40\n50\n"
        }
      ],
      "execution_count": 4
    },
    {
      "cell_type": "code",
      "source": "#8. Find the factorial of a given number\ngiven=int(input(\"enter your number\"))\nif given==0 or given==1:\n    print(f'{given}!=1')\nelif given<0:\n    print(\"your number is less than 0\")\nelse:\n    a=1\n    for i in range(2,given+1):\n        a*=i\n    print(f'{given}!={a}')",
      "metadata": {},
      "outputs": [
        {
          "name": "stdout",
          "output_type": "stream",
          "text": "6!=720\n"
        }
      ],
      "execution_count": 31
    },
    {
      "cell_type": "code",
      "source": "#9.  Display Fibonacci series up to 10 terms\nfibonacci=[0,1]\ni=1\nwhile len(fibonacci)<10:\n    fibonacci.append(fibonacci[i]+fibonacci[i-1])\n    i+=1\nprint(\"first 10 terms of Fibanacci series \",fibonacci)",
      "metadata": {
        "trusted": true
      },
      "outputs": [
        {
          "name": "stdout",
          "output_type": "stream",
          "text": "first 10 terms of Fibanacci series  [0, 1, 1, 2, 3, 5, 8, 13, 21, 34]\n"
        }
      ],
      "execution_count": 6
    },
    {
      "cell_type": "code",
      "source": "#10 all prime numbers within a range\na=2\nb=80\n\nprimenumber=[]\nfor rangenumber in range(a,b+1):\n    s=0\n    for i in range(2,rangenumber):\n        if (rangenumber)%i==0:\n            s=1\n            break\n    if s==0:\n        primenumber.append(rangenumber)  \n\nprint(primenumber)",
      "metadata": {
        "trusted": true
      },
      "outputs": [
        {
          "name": "stdout",
          "output_type": "stream",
          "text": "[2, 3, 5, 7, 11, 13, 17, 19, 23, 29, 31, 37, 41, 43, 47, 53, 59, 61, 67, 71, 73, 79]\n"
        }
      ],
      "execution_count": 44
    },
    {
      "cell_type": "code",
      "source": "#11 perfect number or not \ngiven =28\ns=0\nfor i in range(1,given):\n    if (given)%i==0:\n        s+=i\nif s==given:\n    print(f'{given} is perfect number')\nelse:\n    print(f'{given} is not  perfect number')",
      "metadata": {
        "trusted": true
      },
      "outputs": [
        {
          "name": "stdout",
          "output_type": "stream",
          "text": "28 is perfect number\n"
        }
      ],
      "execution_count": 51
    },
    {
      "cell_type": "code",
      "source": "#12. Count all letters, digits, and special symbols from a given string\nstr1 = \"P@#yn26a t^ &i5ve\"\nstr2=str1.replace(' ','')\nletters=0\nspecialsymbols=0\ndigits=0\nfor i in str2:\n    if i.isalpha():\n        letters+=1\n    elif i.isdigit():\n        digits+=1\n    else:\n        specialsymbols+=1\nprint(f'letters {letters}; digits {digits}; special symbols {specialsymbols} ')\n\n        ",
      "metadata": {
        "trusted": true
      },
      "outputs": [
        {
          "name": "stdout",
          "output_type": "stream",
          "text": "letters 8; digits 3; special symbols 4 \n"
        }
      ],
      "execution_count": 53
    },
    {
      "cell_type": "code",
      "source": "",
      "metadata": {
        "trusted": true
      },
      "outputs": [],
      "execution_count": null
    }
  ]
}