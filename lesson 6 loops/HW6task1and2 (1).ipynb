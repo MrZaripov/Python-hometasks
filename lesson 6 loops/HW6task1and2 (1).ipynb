{
  "metadata": {
    "kernelspec": {
      "name": "python",
      "display_name": "Python (Pyodide)",
      "language": "python"
    },
    "language_info": {
      "codemirror_mode": {
        "name": "python",
        "version": 3
      },
      "file_extension": ".py",
      "mimetype": "text/x-python",
      "name": "python",
      "nbconvert_exporter": "python",
      "pygments_lexer": "ipython3",
      "version": "3.8"
    }
  },
  "nbformat_minor": 4,
  "nbformat": 4,
  "cells": [
    {
      "cell_type": "code",
      "source": "#input\nlist1,list2=[1,1,2],[2,3,4]\n#output\n    #[1,1,3,4]\n\nlist12=[]\nfor i in list1:\n    if i not in list2:\n        list12.append(i)\nfor i in list2:\n    if i not in list1:\n        list12.append(i)\nprint(list12)\n# use {} insead of []\n#list1.union(list2)\n#list1.difference(list2)\n#list1.intersection(list2)\n#print(list1)\n#or\nlist1,list2={1,1,2},{2,3,4}\n#list1 | list2\n#list1 & list2\n#list1 - list2\n#list1 + list2",
      "metadata": {
        "trusted": true
      },
      "outputs": [
        {
          "name": "stdout",
          "output_type": "stream",
          "text": "[1, 1, 3, 4]\n"
        },
        {
          "ename": "<class 'AttributeError'>",
          "evalue": "'list' object has no attribute 'union'",
          "traceback": [
            "\u001b[0;31m---------------------------------------------------------------------------\u001b[0m",
            "\u001b[0;31mAttributeError\u001b[0m                            Traceback (most recent call last)",
            "Cell \u001b[0;32mIn[37], line 14\u001b[0m\n\u001b[1;32m     12\u001b[0m         list12\u001b[38;5;241m.\u001b[39mappend(i)\n\u001b[1;32m     13\u001b[0m \u001b[38;5;28mprint\u001b[39m(list12)\n\u001b[0;32m---> 14\u001b[0m \u001b[43mlist1\u001b[49m\u001b[38;5;241;43m.\u001b[39;49m\u001b[43munion\u001b[49m(list2)\n\u001b[1;32m     15\u001b[0m \u001b[38;5;28mprint\u001b[39m(list1)\n\u001b[1;32m     16\u001b[0m \u001b[38;5;66;03m#or\u001b[39;00m\n",
            "\u001b[0;31mAttributeError\u001b[0m: 'list' object has no attribute 'union'"
          ],
          "output_type": "error"
        }
      ],
      "execution_count": 37
    },
    {
      "cell_type": "code",
      "source": "#input\nlist3,list4=[1,2,3],[4,5,6]\n#output\n    #[1,2,3,4,5,6]\n\nlist3.extend(list4)\nprint(list3)\n",
      "metadata": {
        "trusted": true
      },
      "outputs": [
        {
          "name": "stdout",
          "output_type": "stream",
          "text": "[1, 2, 3, 4, 5, 6]\n"
        }
      ],
      "execution_count": 9
    },
    {
      "cell_type": "code",
      "source": "#input\nlist5,list6=[1,1,2,3,4,2],[1,3,4,5]\n#output\n#[2,2,5]\n\nlist56=[]\nfor i in list5:\n    if i not in list6:\n        list56.append(i)\nfor i in list6:\n    if i not in list5:\n        list56.append(i)\nprint(list56)\n",
      "metadata": {
        "trusted": true
      },
      "outputs": [
        {
          "name": "stdout",
          "output_type": "stream",
          "text": "[2, 2, 5]\n"
        }
      ],
      "execution_count": 10
    },
    {
      "cell_type": "code",
      "source": "#task2 txt nomli string saqlovchi berilgan\ntxt='abcabcdabcdeabcdefabcdefg'\nnewtxt=''\nunli=['a','u','i','o','e']\ns=1\nj=''\nfor i in txt:\n    if s%3 != 0:\n        newtxt+=i\n        s+=1\n    else:\n        if i in unli:\n            newtxt+=i\n            s=2\n        else:\n                newtxt+=i+'_'\n                j+=i\n                s=1\n        \nprint(newtxt)      ",
      "metadata": {
        "trusted": true
      },
      "outputs": [
        {
          "name": "stdout",
          "output_type": "stream",
          "text": "abc_abc_dab_cdeab_cdefabc_def_g\n"
        }
      ],
      "execution_count": 46
    },
    {
      "cell_type": "code",
      "source": "",
      "metadata": {
        "trusted": true
      },
      "outputs": [],
      "execution_count": null
    },
    {
      "cell_type": "code",
      "source": "",
      "metadata": {
        "trusted": true
      },
      "outputs": [],
      "execution_count": null
    }
  ]
}