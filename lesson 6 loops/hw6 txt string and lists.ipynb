{
  "metadata": {
    "kernelspec": {
      "name": "python",
      "display_name": "Python (Pyodide)",
      "language": "python"
    },
    "language_info": {
      "codemirror_mode": {
        "name": "python",
        "version": 3
      },
      "file_extension": ".py",
      "mimetype": "text/x-python",
      "name": "python",
      "nbconvert_exporter": "python",
      "pygments_lexer": "ipython3",
      "version": "3.8"
    }
  },
  "nbformat_minor": 5,
  "nbformat": 4,
  "cells": [
    {
      "id": "bd7615fb-53b5-45a3-83ca-1a5128c2bd94",
      "cell_type": "code",
      "source": "#input\nlist1,list2=[1,1,2],[2,3,4]\n#output\n    #[1,1,3,4]\n\nlist12=[]\nfor i in list1:\n    if i not in list2:\n        list12.append(i)\nfor i in list2:\n    if i not in list1:\n        list12.append(i)\nprint(list12)\n# use {} insead of []\n#list1.union(list2)\n#list1.difference(list2)\n#list1.intersection(list2)\n#print(list1)\n#or\nlist1,list2={1,1,2},{2,3,4}\n#list1 | list2\n#list1 & list2\n#list1 - list2\n#list1 + list2",
      "metadata": {
        "trusted": true
      },
      "outputs": [
        {
          "name": "stdout",
          "output_type": "stream",
          "text": "[1, 1, 3, 4]\n"
        }
      ],
      "execution_count": 7
    },
    {
      "id": "b85fc511-a8bc-4b7b-bcae-a81566dbf88a",
      "cell_type": "code",
      "source": "#input\nlist3,list4=[1,2,3],[4,5,6]\n#output\n    #[1,2,3,4,5,6]\n\nlist3.extend(list4)\nprint(list3)\n",
      "metadata": {
        "trusted": true
      },
      "outputs": [
        {
          "name": "stdout",
          "output_type": "stream",
          "text": "[1, 2, 3, 4, 5, 6]\n"
        }
      ],
      "execution_count": 8
    },
    {
      "id": "cb166985-97b9-4644-82c5-f10ba8e10897",
      "cell_type": "code",
      "source": "#input\nlist5,list6=[1,1,2,3,4,2],[1,3,4,5]\n#output\n#[2,2,5]\n\nlist56=[]\nfor i in list5:\n    if i not in list6:\n        list56.append(i)\nfor i in list6:\n    if i not in list5:\n        list56.append(i)\nprint(list56)\n",
      "metadata": {
        "trusted": true
      },
      "outputs": [
        {
          "name": "stdout",
          "output_type": "stream",
          "text": "[2, 2, 5]\n"
        }
      ],
      "execution_count": 9
    },
    {
      "id": "74b65eab-eb45-4b2a-9b2a-801b4b373b1a",
      "cell_type": "code",
      "source": "#task3 txt nomli string saqlovchi berilgan\ntxt='abcabcdabcdeabcdefabcdefghjk'\n  \nusedtext=['a','u','i','o','e']\nindextxt=2\nwhile indextxt<len(txt)-1:\n    if txt[indextxt] not in usedtext:\n        txt=txt[:indextxt+1]+'_'+txt[indextxt+1:]\n        usedtext.append(txt[indextxt])\n        indextxt+=4\n        continue\n    indextxt+=1\nprint(txt)    ",
      "metadata": {
        "trusted": true
      },
      "outputs": [
        {
          "name": "stdout",
          "output_type": "stream",
          "text": "abc_abcd_abcdeab_cdef_abcdefg_hjk\n"
        }
      ],
      "execution_count": 10
    }
  ]
}