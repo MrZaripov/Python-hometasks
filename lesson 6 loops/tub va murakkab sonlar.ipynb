{
  "metadata": {
    "kernelspec": {
      "name": "python",
      "display_name": "Python (Pyodide)",
      "language": "python"
    },
    "language_info": {
      "codemirror_mode": {
        "name": "python",
        "version": 3
      },
      "file_extension": ".py",
      "mimetype": "text/x-python",
      "name": "python",
      "nbconvert_exporter": "python",
      "pygments_lexer": "ipython3",
      "version": "3.8"
    }
  },
  "nbformat_minor": 4,
  "nbformat": 4,
  "cells": [
    {
      "cell_type": "code",
      "source": "#парт 1 \na = 230\ns=0\nfor i in range (2,int(a/2)):\n    if a%i==0:\n        s+=1\n    else:\n        s+=0\nif s>0:\n    print(\"tub emas\")\nelse:\n    print(\"Tub\")\n",
      "metadata": {
        "trusted": true
      },
      "outputs": [
        {
          "name": "stdout",
          "text": "tub emas\n",
          "output_type": "stream"
        }
      ],
      "execution_count": 1
    },
    {
      "cell_type": "code",
      "source": "s=0\nfor i in range(2,int(a/2)):\n    if a%i==0:\n        s=1\n        break\nprint(\"tub\" if s==0 else \"murakkab\" )",
      "metadata": {
        "trusted": true
      },
      "outputs": [],
      "execution_count": null
    },
    {
      "cell_type": "code",
      "source": "s=0\ni=range(2,int(a/2))\nwhile s<=0:\n    print(i)\n  ",
      "metadata": {
        "trusted": true
      },
      "outputs": [],
      "execution_count": null
    },
    {
      "cell_type": "code",
      "source": "",
      "metadata": {
        "trusted": true
      },
      "outputs": [],
      "execution_count": null
    }
  ]
}