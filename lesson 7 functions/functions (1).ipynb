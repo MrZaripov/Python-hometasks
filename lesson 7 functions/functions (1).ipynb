{
  "metadata": {
    "kernelspec": {
      "name": "python",
      "display_name": "Python (Pyodide)",
      "language": "python"
    },
    "language_info": {
      "codemirror_mode": {
        "name": "python",
        "version": 3
      },
      "file_extension": ".py",
      "mimetype": "text/x-python",
      "name": "python",
      "nbconvert_exporter": "python",
      "pygments_lexer": "ipython3",
      "version": "3.8"
    }
  },
  "nbformat_minor": 4,
  "nbformat": 4,
  "cells": [
    {
      "cell_type": "code",
      "source": "#1. Write a Python function to find the maximum of three numbers in three ways.\n#\tNote: ( In third way, it is not allowed using MAX or SORT method or SORTED function)\na=int(input(\"enter first number\"))\nb=int(input(\"enter second number\"))\nc=int(input(\"enter third number\"))\n\n# METHOD 1 USING DEF + max \ndef  m1(a,b,c):\n    return max(a,b,c)\nprint(\"method 2 \")\nprint(f'first number is {a};second number is {b}; third number is {c}; maximum number is {m1(a,b,c)}')\n\n# METHOD 2 USING DEF + sorted FUNCTIONS\ndef  m2(a,b,c):\n    list=[a,b,c]\n    list=sorted(list)\n    return list[-1]\nprint(\"method 2 \")\nprint(f'first number is {a};second number is {b}; third number is {c}; maximum number is {m2(a,b,c)}')\n\n# METHOD 3 USING DEF + IF FUNCTIONS\ndef  m3(a,b,c):\n    if a>b and a>c:\n        return a \n    elif b>c and b>a:\n        return b\n    else:\n        return c\nprint(\"method 3 \")\nprint(f'first number is {a};second number is {b}; third number is {c}; maximum number is {m3(a,b,c)}')\n",
      "metadata": {},
      "outputs": [
        {
          "name": "stdout",
          "output_type": "stream",
          "text": "method 2 \n,first number is 13;second number is 567; third number is 3456; maximum number is 3456\n,method 2 \n,first number is 13;second number is 567; third number is 3456; maximum number is 3456\n,method 3 \n,first number is 13;second number is 567; third number is 3456; maximum number is 3456\n"
        }
      ],
      "execution_count": 6
    },
    {
      "cell_type": "code",
      "source": "#2. Write a Python function to sum all the numbers in a list. using sum\nl1=[2,13,556,34,24,23]\nprint(f' sum of all numbers of list={l1} is {sum(l1)} #method1')\n#3. Write a Python function to sum all the numbers in a list. using reduce\nfrom  functools import reduce \nprint(f' sum of all numbers of list={l1} is {reduce(lambda x,y:x+y,l1)} #method2')\n#4. Write a Python function to sum all the numbers in a list. using def and for \ndef summator(a):\n    sum=0\n    for i in a:\n        sum+=i\n    return sum \nprint(f' sum of all numbers of list={l1} is {summator(l1)} #method3')",
      "metadata": {},
      "outputs": [
        {
          "name": "stdout",
          "output_type": "stream",
          "text": " sum of all numbers of list=[2, 13, 556, 34, 24, 23] is 652 #method1\n, sum of all numbers of list=[2, 13, 556, 34, 24, 23] is 652 #method2\n, sum of all numbers of list=[2, 13, 556, 34, 24, 23] is 652 #method3\n"
        }
      ],
      "execution_count": 11
    },
    {
      "cell_type": "code",
      "source": "#5. Write a Python function to calculate the factorial of a number (a non-negative integer). The function accepts the number as an argument.\n\ndef factorial(arg):\n    if arg==0:\n        return 1\n    elif arg<0:\n        return ValueError\n    return factorial(arg-1)*arg\n\ntry:\n    n=7\n    print(f'{n}! is {factorial(n)}')\nexcept ValueError as err:\n    print(err)\n    ",
      "metadata": {
        "trusted": true
      },
      "outputs": [
        {
          "name": "stdout",
          "output_type": "stream",
          "text": "7! is 5040\n"
        }
      ],
      "execution_count": 14
    },
    {
      "cell_type": "code",
      "source": "#6. Write a Python function to check whether a number falls within a given range\ndef range(n,st,end):\n    if st<end:\n        if st<n<end:\n            return print(f'the number {n} is  falling within the range (from {st} to {end})')\n        else:\n            return print(f'the number {n} is not falling within the range (from {st} to {end})')\n    else:\n        if end<n<st:\n            return print(f'the number {n} is  falling within the range (from {st} to {end})')\n        else:\n            return print(f'the number {n} is not falling within the range (from {st} to {end})')\nn=int(input(\"enter first number\"))\nb=int(input(\"enter start  of range\"))\nc=int(input(\"enter end of  range\"))\nrange(n,b,c)",
      "metadata": {},
      "outputs": [
        {
          "name": "stdout",
          "output_type": "stream",
          "text": "the number 2 is  falling within the range (from 6 to 1)\n"
        }
      ],
      "execution_count": 2
    },
    {
      "cell_type": "code",
      "source": "#7. Write a Python function that accepts a string and counts the number of upper and lower case letters.\n#\tEX: \n#\t---------------------------------------------\n#\t--- Sample String : 'The quick Brow Fox'  ---\n#\t--- Expected Output :                     ---\n#\t--- No. of Upper case characters : 3      ---\n#\t--- No. of Lower case Characters : 12     ---\n#\t---------------------------------------------\n\ndef counter(string):\n    low=0\n    up=0\n    spaces=0\n    for i in string:\n        if i.isupper():\n            up+=1\n        elif i.islower():\n            low+=1\n        else:\n            spaces+=1\n    return print(f'number of upper chars {up} and number of lower chars {low}  in string \"{string}\"')\ncounter(\"See it is WorKinG\")",
      "metadata": {},
      "outputs": [
        {
          "name": "stdout",
          "output_type": "stream",
          "text": "number of upper chars 4 and number of lower chars 10  in string \"See it is WorKinG\"\n"
        }
      ],
      "execution_count": 5
    },
    {
      "cell_type": "code",
      "source": "#8. Write a Python function that takes a list and returns a new list with distinct elements from the first list.\ndef list2(a):\n    newlist=[]\n    for i in a:\n        if i!=a[0]:\n            newlist.append(i)\n            continue\n    return newlist\n\nprint(list2([1,2,3,4,5,6]))  ",
      "metadata": {},
      "outputs": [
        {
          "name": "stdout",
          "output_type": "stream",
          "text": "[2, 3, 4, 5, 6]\n"
        }
      ],
      "execution_count": 6
    },
    {
      "cell_type": "code",
      "source": "#9. Write a Python function that takes a number as a parameter and checks whether the number is prime or not.\n#\tNote : A prime number (or a prime) is a natural number greater than 1 and that has no positive divisors other than 1 \t\tand itself.\nnum=232\n\ndef primeornot(n:int):\n    s=0\n    for i in range(2,n):\n        if n%i==0:\n            s=1\n            break\n    return print(f'the number {n}  is prime' if s==0 else f'the number {n}  is not prime' )\nprimeornot(num)\n\n        \n    ",
      "metadata": {
        "trusted": true
      },
      "outputs": [
        {
          "name": "stdout",
          "output_type": "stream",
          "text": "the number 232  is not prime\n"
        }
      ],
      "execution_count": 2
    },
    {
      "cell_type": "code",
      "source": "#10. Write a Python program to print the even numbers from a given list\n\nlist=[2,4,5,7,97,32,56,8,33,54]\n\ndef evens(list):\n    event_numbers=[i for i in list if i%2==0]\n    return event_numbers\nprint(f'event numbers in list={list} are {evens(list)}')",
      "metadata": {
        "trusted": true
      },
      "outputs": [
        {
          "name": "stdout",
          "output_type": "stream",
          "text": "event numbers in list=[2, 4, 5, 7, 97, 32, 56, 8, 33, 54] are [2, 4, 32, 56, 8, 54]\n"
        }
      ],
      "execution_count": 16
    },
    {
      "cell_type": "code",
      "source": "#11. Write a Python function to check whether a number is \"Perfect\" or not.\nnumber=28\n\ndef perfectornot(arg):\n    s=0\n    for i in range(1,arg):\n        if (arg)%i==0:\n            s+=i\n    if s==arg:\n        return print(f'{arg} is perfect number')\n    else:\n        return print(f'{arg} is not  perfect number')\nperfectornot(number)",
      "metadata": {
        "trusted": true
      },
      "outputs": [
        {
          "name": "stdout",
          "output_type": "stream",
          "text": "28 is perfect number\n"
        }
      ],
      "execution_count": 17
    },
    {
      "cell_type": "code",
      "source": "#12. Write a  Python function that checks whether a passed string is a palindrome or not.\n#\tNote: A palindrome is a word, phrase, or sequence that reads the same backward as forward, e.g., madam or nurses run.\nstr='Anna'\nstr=str.lower()\ndef palindromeornot(text: str):\n    return str[::-1]\n\nif str==palindromeornot(str):\n    print(f'the string \"{str}\" is palindrome')\nelse:   \n    print(f'the string \"{str}\" is not palindrome')",
      "metadata": {
        "trusted": true
      },
      "outputs": [
        {
          "name": "stdout",
          "output_type": "stream",
          "text": "the string \"anna\" is palindrome\n"
        }
      ],
      "execution_count": 25
    },
    {
      "cell_type": "code",
      "source": "#13. Write a Python function to create and print a list where the values are the squares of numbers between 1 and 30 (both included).\nlist = [ i for i in range(1,30+1)]\ndef squares(arg):\n    ret=[i**2 for i in arg]\n    return ret\nprint(f'given list={list}. \\nthe result={squares(list)}')",
      "metadata": {
        "trusted": true
      },
      "outputs": [
        {
          "name": "stdout",
          "output_type": "stream",
          "text": "given list=[1, 2, 3, 4, 5, 6, 7, 8, 9, 10, 11, 12, 13, 14, 15, 16, 17, 18, 19, 20, 21, 22, 23, 24, 25, 26, 27, 28, 29, 30]. \nthe result=[1, 4, 9, 16, 25, 36, 49, 64, 81, 100, 121, 144, 169, 196, 225, 256, 289, 324, 361, 400, 441, 484, 529, 576, 625, 676, 729, 784, 841, 900]\n"
        }
      ],
      "execution_count": 29
    },
    {
      "cell_type": "code",
      "source": "#14. Write a Python function to create and print a list where the values are the squares of numbers between 1 and 30 (both included).\n#\tEX:\n#\t------------------------------------------------------\n#\t--- Sample Items : green-red-yellow-black-white    ---\n#\t--- Expected Result : black-green-red-white-yellow ---\n#\t------------------------------------------------------\n",
      "metadata": {
        "trusted": true
      },
      "outputs": [],
      "execution_count": null
    },
    {
      "cell_type": "code",
      "source": "#15. Write a Python function to create and print a list where the values are the squares of numbers between 1 and 30 (both included).\nimport math as m\nlist = [ i for i in range(1,30+1)]\ndef squares(arg):\n    ret=[int(m.pow(i,2)) for i in arg]\n    return ret\nprint(f'given list={list}. \\nthe result={squares(list)}')",
      "metadata": {
        "trusted": true
      },
      "outputs": [
        {
          "name": "stdout",
          "output_type": "stream",
          "text": "given list=[1, 2, 3, 4, 5, 6, 7, 8, 9, 10, 11, 12, 13, 14, 15, 16, 17, 18, 19, 20, 21, 22, 23, 24, 25, 26, 27, 28, 29, 30]. \nthe result=[1, 4, 9, 16, 25, 36, 49, 64, 81, 100, 121, 144, 169, 196, 225, 256, 289, 324, 361, 400, 441, 484, 529, 576, 625, 676, 729, 784, 841, 900]\n"
        }
      ],
      "execution_count": 31
    },
    {
      "cell_type": "code",
      "source": "",
      "metadata": {
        "trusted": true
      },
      "outputs": [],
      "execution_count": null
    }
  ]
}