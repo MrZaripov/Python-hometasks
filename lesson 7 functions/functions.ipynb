{
 "cells": [
  {
   "cell_type": "code",
   "execution_count": 6,
   "metadata": {},
   "outputs": [
    {
     "name": "stdout",
     "output_type": "stream",
     "text": [
      "method 2 \n",
      "first number is 13;second number is 567; third number is 3456; maximum number is 3456\n",
      "method 2 \n",
      "first number is 13;second number is 567; third number is 3456; maximum number is 3456\n",
      "method 3 \n",
      "first number is 13;second number is 567; third number is 3456; maximum number is 3456\n"
     ]
    }
   ],
   "source": [
    "#1. Write a Python function to find the maximum of three numbers in three ways.\n",
    "#\tNote: ( In third way, it is not allowed using MAX or SORT method or SORTED function)\n",
    "a=int(input(\"enter first number\"))\n",
    "b=int(input(\"enter second number\"))\n",
    "c=int(input(\"enter third number\"))\n",
    "\n",
    "# METHOD 1 USING DEF + max \n",
    "def  m1(a,b,c):\n",
    "    return max(a,b,c)\n",
    "print(\"method 2 \")\n",
    "print(f'first number is {a};second number is {b}; third number is {c}; maximum number is {m1(a,b,c)}')\n",
    "\n",
    "# METHOD 2 USING DEF + sorted FUNCTIONS\n",
    "def  m2(a,b,c):\n",
    "    list=[a,b,c]\n",
    "    list=sorted(list)\n",
    "    return list[-1]\n",
    "print(\"method 2 \")\n",
    "print(f'first number is {a};second number is {b}; third number is {c}; maximum number is {m2(a,b,c)}')\n",
    "\n",
    "# METHOD 3 USING DEF + IF FUNCTIONS\n",
    "def  m3(a,b,c):\n",
    "    if a>b and a>c:\n",
    "        return a \n",
    "    elif b>c and b>a:\n",
    "        return b\n",
    "    else:\n",
    "        return c\n",
    "print(\"method 3 \")\n",
    "print(f'first number is {a};second number is {b}; third number is {c}; maximum number is {m3(a,b,c)}')\n"
   ]
  },
  {
   "cell_type": "code",
   "execution_count": 11,
   "metadata": {},
   "outputs": [
    {
     "name": "stdout",
     "output_type": "stream",
     "text": [
      " sum of all numbers of list=[2, 13, 556, 34, 24, 23] is 652 #method1\n",
      " sum of all numbers of list=[2, 13, 556, 34, 24, 23] is 652 #method2\n",
      " sum of all numbers of list=[2, 13, 556, 34, 24, 23] is 652 #method3\n"
     ]
    }
   ],
   "source": [
    "#2. Write a Python function to sum all the numbers in a list. using sum\n",
    "l1=[2,13,556,34,24,23]\n",
    "print(f' sum of all numbers of list={l1} is {sum(l1)} #method1')\n",
    "#3. Write a Python function to sum all the numbers in a list. using reduce\n",
    "from  functools import reduce \n",
    "print(f' sum of all numbers of list={l1} is {reduce(lambda x,y:x+y,l1)} #method2')\n",
    "#4. Write a Python function to sum all the numbers in a list. using def and for \n",
    "def summator(a):\n",
    "    sum=0\n",
    "    for i in a:\n",
    "        sum+=i\n",
    "    return sum \n",
    "print(f' sum of all numbers of list={l1} is {summator(l1)} #method3')"
   ]
  },
  {
   "cell_type": "code",
   "execution_count": 20,
   "metadata": {},
   "outputs": [
    {
     "name": "stdout",
     "output_type": "stream",
     "text": [
      "5! is 120\n"
     ]
    }
   ],
   "source": [
    "#5. Write a Python function to calculate the factorial of a number (a non-negative integer). The function accepts the number as an argument.\n",
    "n=int(input(\"enter first number\"))\n",
    "def factorial(arg):\n",
    "    if arg==1:\n",
    "        return 1\n",
    "    return factorial(arg-1)*arg\n",
    "print(f'{n}! is {factorial(n)}')"
   ]
  },
  {
   "cell_type": "code",
   "execution_count": 2,
   "metadata": {},
   "outputs": [
    {
     "name": "stdout",
     "output_type": "stream",
     "text": [
      "the number 2 is  falling within the range (from 6 to 1)\n"
     ]
    }
   ],
   "source": [
    "#6. Write a Python function to check whether a number falls within a given range\n",
    "def range(n,st,end):\n",
    "    if st<end:\n",
    "        if st<n<end:\n",
    "            return print(f'the number {n} is  falling within the range (from {st} to {end})')\n",
    "        else:\n",
    "            return print(f'the number {n} is not falling within the range (from {st} to {end})')\n",
    "    else:\n",
    "        if end<n<st:\n",
    "            return print(f'the number {n} is  falling within the range (from {st} to {end})')\n",
    "        else:\n",
    "            return print(f'the number {n} is not falling within the range (from {st} to {end})')\n",
    "n=int(input(\"enter first number\"))\n",
    "b=int(input(\"enter start  of range\"))\n",
    "c=int(input(\"enter end of  range\"))\n",
    "range(n,b,c)"
   ]
  },
  {
   "cell_type": "code",
   "execution_count": 5,
   "metadata": {},
   "outputs": [
    {
     "name": "stdout",
     "output_type": "stream",
     "text": [
      "number of upper chars 4 and number of lower chars 10  in string \"See it is WorKinG\"\n"
     ]
    }
   ],
   "source": [
    "#7. Write a Python function that accepts a string and counts the number of upper and lower case letters.\n",
    "#\tEX: \n",
    "#\t---------------------------------------------\n",
    "#\t--- Sample String : 'The quick Brow Fox'  ---\n",
    "#\t--- Expected Output :                     ---\n",
    "#\t--- No. of Upper case characters : 3      ---\n",
    "#\t--- No. of Lower case Characters : 12     ---\n",
    "#\t---------------------------------------------\n",
    "\n",
    "def counter(string):\n",
    "    low=0\n",
    "    up=0\n",
    "    spaces=0\n",
    "    for i in string:\n",
    "        if i.isupper():\n",
    "            up+=1\n",
    "        elif i.islower():\n",
    "            low+=1\n",
    "        else:\n",
    "            spaces+=1\n",
    "    return print(f'number of upper chars {up} and number of lower chars {low}  in string \"{string}\"')\n",
    "counter(\"See it is WorKinG\")"
   ]
  },
  {
   "cell_type": "code",
   "execution_count": 6,
   "metadata": {},
   "outputs": [
    {
     "name": "stdout",
     "output_type": "stream",
     "text": [
      "[2, 3, 4, 5, 6]\n"
     ]
    }
   ],
   "source": [
    "#8. Write a Python function that takes a list and returns a new list with distinct elements from the first list.\n",
    "def list2(a):\n",
    "    newlist=[]\n",
    "    for i in a:\n",
    "        if i!=a[0]:\n",
    "            newlist.append(i)\n",
    "            continue\n",
    "    return newlist\n",
    "\n",
    "print(list2([1,2,3,4,5,6]))  "
   ]
  },
  {
   "cell_type": "code",
   "execution_count": 31,
   "metadata": {},
   "outputs": [
    {
     "ename": "TypeError",
     "evalue": "range() missing 1 required positional argument: 'end'",
     "output_type": "error",
     "traceback": [
      "\u001b[1;31m---------------------------------------------------------------------------\u001b[0m",
      "\u001b[1;31mTypeError\u001b[0m                                 Traceback (most recent call last)",
      "Cell \u001b[1;32mIn[31], line 12\u001b[0m\n\u001b[0;32m     10\u001b[0m             \u001b[38;5;28;01mbreak\u001b[39;00m\n\u001b[0;32m     11\u001b[0m     \u001b[38;5;28;01mreturn\u001b[39;00m \u001b[38;5;28mprint\u001b[39m(\u001b[38;5;124mf\u001b[39m\u001b[38;5;124m'\u001b[39m\u001b[38;5;124mthe number \u001b[39m\u001b[38;5;132;01m{\u001b[39;00mn\u001b[38;5;132;01m}\u001b[39;00m\u001b[38;5;124m  is prime\u001b[39m\u001b[38;5;124m'\u001b[39m \u001b[38;5;28;01mif\u001b[39;00m s\u001b[38;5;241m==\u001b[39m\u001b[38;5;241m0\u001b[39m \u001b[38;5;28;01melse\u001b[39;00m \u001b[38;5;124mf\u001b[39m\u001b[38;5;124m'\u001b[39m\u001b[38;5;124mthe number \u001b[39m\u001b[38;5;132;01m{\u001b[39;00mn\u001b[38;5;132;01m}\u001b[39;00m\u001b[38;5;124m  is not prime\u001b[39m\u001b[38;5;124m'\u001b[39m )\n\u001b[1;32m---> 12\u001b[0m \u001b[43mprimeornot\u001b[49m\u001b[43m(\u001b[49m\u001b[43mnum\u001b[49m\u001b[43m)\u001b[49m\n",
      "Cell \u001b[1;32mIn[31], line 7\u001b[0m, in \u001b[0;36mprimeornot\u001b[1;34m(n)\u001b[0m\n\u001b[0;32m      5\u001b[0m \u001b[38;5;28;01mdef\u001b[39;00m \u001b[38;5;21mprimeornot\u001b[39m(n:\u001b[38;5;28mint\u001b[39m):\n\u001b[0;32m      6\u001b[0m     s\u001b[38;5;241m=\u001b[39m\u001b[38;5;241m0\u001b[39m\n\u001b[1;32m----> 7\u001b[0m     \u001b[38;5;28;01mfor\u001b[39;00m i \u001b[38;5;129;01min\u001b[39;00m \u001b[38;5;28;43mrange\u001b[39;49m\u001b[43m(\u001b[49m\u001b[38;5;241;43m2\u001b[39;49m\u001b[43m,\u001b[49m\u001b[43mn\u001b[49m\u001b[43m)\u001b[49m:\n\u001b[0;32m      8\u001b[0m         \u001b[38;5;28;01mif\u001b[39;00m n\u001b[38;5;241m%\u001b[39mi\u001b[38;5;241m==\u001b[39m\u001b[38;5;241m0\u001b[39m:\n\u001b[0;32m      9\u001b[0m             s\u001b[38;5;241m=\u001b[39m\u001b[38;5;241m1\u001b[39m\n",
      "\u001b[1;31mTypeError\u001b[0m: range() missing 1 required positional argument: 'end'"
     ]
    }
   ],
   "source": [
    "#9. Write a Python function that takes a number as a parameter and checks whether the number is prime or not.\n",
    "#\tNote : A prime number (or a prime) is a natural number greater than 1 and that has no positive divisors other than 1 \t\tand itself.\n",
    "num=233\n",
    "\n",
    "def primeornot(n:int):\n",
    "    s=0\n",
    "    for i in range(2,n):\n",
    "        if n%i==0:\n",
    "            s=1\n",
    "            break\n",
    "    return print(f'the number {n}  is prime' if s==0 else f'the number {n}  is not prime' )\n",
    "primeornot(num)\n",
    "\n",
    "        \n",
    "    "
   ]
  }
 ],
 "metadata": {
  "kernelspec": {
   "display_name": "Python 3",
   "language": "python",
   "name": "python3"
  },
  "language_info": {
   "codemirror_mode": {
    "name": "ipython",
    "version": 3
   },
   "file_extension": ".py",
   "mimetype": "text/x-python",
   "name": "python",
   "nbconvert_exporter": "python",
   "pygments_lexer": "ipython3",
   "version": "3.12.3"
  }
 },
 "nbformat": 4,
 "nbformat_minor": 2
}
